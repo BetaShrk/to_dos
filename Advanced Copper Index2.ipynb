{
 "cells": [
  {
   "cell_type": "code",
   "execution_count": 35,
   "id": "0c4fc101-036f-41aa-bc60-2d420b27c38d",
   "metadata": {},
   "outputs": [],
   "source": [
    "import requests\n",
    "from bs4 import BeautifulSoup\n",
    "import pandas as pd\n",
    "import os"
   ]
  },
  {
   "cell_type": "code",
   "execution_count": 36,
   "id": "f09efc88-08fa-455d-abdc-852473ab4879",
   "metadata": {},
   "outputs": [],
   "source": [
    "urls = [\n",
    "    {'url':'https://www.westmetall.com/de/markdaten.php?action=table&field=ACI', 'symbol':'MBI01', 'boerse': 'mbi'},\n",
    "    {'url':'https://www.westmetall.com/de/markdaten.php?action=table&field=Euro_FX1', 'symbol':'MBI02', 'boerse': 'mbi'},\n",
    "    {'url':'https://www.westmetall.com/de/markdaten.php?action=table&field=WM_Cu_low', 'symbol':'MBI03', 'boerse': 'mbi'},\n",
    "    {'url':'https://www.westmetall.com/de/markdaten.php?action=table&field=WM_Cu_high', 'symbol':'MBI04', 'boerse': 'mbi'}      \n",
    "]"
   ]
  },
  {
   "cell_type": "code",
   "execution_count": 38,
   "id": "bb29a5c6-b126-4172-92a6-a87c2080f0b4",
   "metadata": {},
   "outputs": [
    {
     "name": "stdout",
     "output_type": "stream",
     "text": [
      "Excel-Datei erfolgreich erstellt: westmetall.xlsx\n"
     ]
    }
   ],
   "source": [
    "all_data = []\n",
    "\n",
    "for item in urls:\n",
    "    url = item['url']\n",
    "    symbol = item['symbol']\n",
    "    boerse = item['boerse']\n",
    "\n",
    "    response = requests.get(url)\n",
    "    if response.status_code == 200:\n",
    "        soup = BeautifulSoup(response.text, 'html.parser')\n",
    "        table = soup.find(\"table\")\n",
    "\n",
    "        data = []\n",
    "        headers = [\"symbol\", \"boerse\", \"datum\", \"letzter\"]\n",
    "    \n",
    "        rows = table.find_all(\"tr\")\n",
    "\n",
    "        for row in table.find_all(\"tr\")[1:4]:\n",
    "            row_data = [cell.get_text(strip=True) for cell in row.find_all(\"td\")]\n",
    "            if len(row_data) >= 2:\n",
    "                data.append([symbol, boerse] + row_data[:2])\n",
    "        \n",
    "        all_data.extend(data)\n",
    "\n",
    "df = pd.DataFrame(all_data, columns=headers)\n",
    "df.to_excel(\"westmetall.xlsx\", index=False)\n",
    "\n",
    "print(\"Excel-Datei erfolgreich erstellt: westmetall.xlsx\")"
   ]
  },
  {
   "cell_type": "code",
   "execution_count": null,
   "id": "af0bd55e-d3a4-4492-9e26-104680bccffd",
   "metadata": {},
   "outputs": [],
   "source": []
  },
  {
   "cell_type": "code",
   "execution_count": null,
   "id": "8170818f-c104-4e54-9cc3-723aa761c90b",
   "metadata": {},
   "outputs": [],
   "source": []
  }
 ],
 "metadata": {
  "kernelspec": {
   "display_name": "Python 3 (ipykernel)",
   "language": "python",
   "name": "python3"
  },
  "language_info": {
   "codemirror_mode": {
    "name": "ipython",
    "version": 3
   },
   "file_extension": ".py",
   "mimetype": "text/x-python",
   "name": "python",
   "nbconvert_exporter": "python",
   "pygments_lexer": "ipython3",
   "version": "3.12.2"
  }
 },
 "nbformat": 4,
 "nbformat_minor": 5
}
