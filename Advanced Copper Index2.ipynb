{
 "cells": [
  {
   "cell_type": "code",
   "execution_count": 68,
   "id": "0c4fc101-036f-41aa-bc60-2d420b27c38d",
   "metadata": {},
   "outputs": [],
   "source": [
    "import requests\n",
    "from bs4 import BeautifulSoup\n",
    "import pandas as pd\n",
    "import os"
   ]
  },
  {
   "cell_type": "code",
   "execution_count": 69,
   "id": "f09efc88-08fa-455d-abdc-852473ab4879",
   "metadata": {},
   "outputs": [],
   "source": [
    "base_url = 'https://www.westmetall.com/de/markdaten.php?action=table&field='\n",
    "\n",
    "codes = ['ACI', 'Euro_FX1', 'WM_Cu_low', 'WM_Cu_high']"
   ]
  },
  {
   "cell_type": "code",
   "execution_count": 71,
   "id": "312e24ee-6f0f-4830-9381-120aa44d8ccf",
   "metadata": {},
   "outputs": [
    {
     "name": "stdout",
     "output_type": "stream",
     "text": [
      "No table found for code: ACI\n",
      "No table found for code: Euro_FX1\n",
      "No table found for code: WM_Cu_low\n",
      "No table found for code: WM_Cu_high\n"
     ]
    }
   ],
   "source": [
    "headers = [\"symbol\", \"name\", \"Datum\", \"letzter\"]\n",
    "data = []\n",
    "\n",
    "for code in codes:\n",
    "    url = base_url + code\n",
    "    response = requests.get(url)\n",
    "    soup = BeautifulSoup(response.content, 'html.parser')\n",
    "    table = soup.find('table', class_='table-responsive')\n",
    "    \n",
    "    if table:  \n",
    "        rows = table.find_all('tr')\n",
    "        for row in rows[1:]: \n",
    "            columns = row.find_all('td')\n",
    "            datum = columns[0].text.strip()\n",
    "            preis = columns[1].text.strip()\n",
    "            data.append([code, \"\", datum, preis])\n",
    "    else:\n",
    "        print(f\"No table found for code: {code}\")\n",
    "\n",
    "df = pd.DataFrame(data, columns=headers)\n",
    "df.to_excel(\"parsed_data.xlsx\", index=False)"
   ]
  },
  {
   "cell_type": "code",
   "execution_count": null,
   "id": "af0bd55e-d3a4-4492-9e26-104680bccffd",
   "metadata": {},
   "outputs": [],
   "source": []
  },
  {
   "cell_type": "code",
   "execution_count": null,
   "id": "8170818f-c104-4e54-9cc3-723aa761c90b",
   "metadata": {},
   "outputs": [],
   "source": []
  },
  {
   "cell_type": "code",
   "execution_count": null,
   "id": "dd49055b-daa7-46ab-8057-cf7d7acc09f4",
   "metadata": {},
   "outputs": [],
   "source": []
  }
 ],
 "metadata": {
  "kernelspec": {
   "display_name": "Python 3 (ipykernel)",
   "language": "python",
   "name": "python3"
  },
  "language_info": {
   "codemirror_mode": {
    "name": "ipython",
    "version": 3
   },
   "file_extension": ".py",
   "mimetype": "text/x-python",
   "name": "python",
   "nbconvert_exporter": "python",
   "pygments_lexer": "ipython3",
   "version": "3.12.2"
  }
 },
 "nbformat": 4,
 "nbformat_minor": 5
}
