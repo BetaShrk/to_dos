{
 "cells": [
  {
   "cell_type": "code",
   "execution_count": null,
   "id": "8f17b988-68d3-4df3-9356-76f8440abafc",
   "metadata": {},
   "outputs": [],
   "source": [
    "import requests\n",
    "from bs4 import BeautifulSoup\n",
    "import pandas as pd\n",
    "from datetime import datetime"
   ]
  },
  {
   "cell_type": "code",
   "execution_count": null,
   "id": "6d5cc099-d045-4af8-99b6-9ecf33bf3914",
   "metadata": {},
   "outputs": [],
   "source": [
    "urls = [\n",
    "    {'url':'https://shipandbunker.com/prices/apac/sea/sg-sin-singapore#VLSFO', 'symbol':'MBI0798', 'boerse':'mbi', 'fuel_type':'VLSFO'},\n",
    "    {'url':'https://shipandbunker.com/prices/apac/sea/sg-sin-singapore#_IFO380', 'symbol':'MBI0796', 'boerse':'mbi', 'fuel_type':'IFO380'},\n",
    "    {'url':'https://shipandbunker.com/prices/emea/nwe/nl-rtm-rotterdam#VLSFO', 'symbol':'MBI0797', 'boerse':'mbi', 'fuel_type':'VLSFO'},\n",
    "    {'url':'https://shipandbunker.com/prices/emea/nwe/nl-rtm-rotterdam#IFO380', 'symbol':'MBI0795', 'boerse':'mbi', 'fuel_type':'IFO380'}\n",
    "]"
   ]
  },
  {
   "cell_type": "code",
   "execution_count": null,
   "id": "900abf59-d138-4eec-ac8f-4fb4f5068f42",
   "metadata": {},
   "outputs": [],
   "source": [
    "all_data = []\n",
    "\n",
    "for item in urls:\n",
    "    url = item['url']\n",
    "    symbol = item['symbol']\n",
    "    boerse = item['boerse']\n",
    "    fuel_type = item['fuel_type']\n",
    "        \n",
    "    response = requests.get(url)\n",
    "    if response.status_code == 200:\n",
    "        soup = BeautifulSoup(response.text, 'html.parser')\n",
    "\n",
    "        data = []\n",
    "        headers = [\"symbol\", \"boerse\", \"datum\", \"letzter\"]\n",
    "        \n",
    "        #price\n",
    "        price_tag = soup.find('td', headers = f'price-{fuel_type}')\n",
    "        price = price_tag.text.strip() if price_tag else \"price not found\"\n",
    "\n",
    "        #date\n",
    "        date_tag = soup.find('th', class_='date')\n",
    "        \n",
    "        raw_date = date_tag.text.strip() if date_tag else \"date not found\"\n",
    "        raw_date = raw_date[2:]\n",
    "        \n",
    "        current_year = datetime.now().year\n",
    "        \n",
    "        formatted_date = f\"{current_year}-{datetime.strptime(raw_date, '%b %d').strftime('%m-%d')}\"\n",
    "        \n",
    "        data.append([symbol, boerse, formatted_date, price])\n",
    "        \n",
    "        #check up\n",
    "        #print(symbol, boerse, date, price_tag)\n",
    "\n",
    "    all_data.extend(data)\n",
    "\n",
    "df = pd.DataFrame(all_data, columns=headers)\n",
    "df.to_excel(\"shipandbunker.xlsx\", index=False)\n",
    "\n",
    "print(\"Excel-Datei erfolgreich erstellt in shipandbunker.xlsx\")"
   ]
  },
  {
   "cell_type": "code",
   "execution_count": null,
   "id": "ca866deb-d7f2-40cf-917f-209b4fc92e8c",
   "metadata": {},
   "outputs": [],
   "source": []
  },
  {
   "cell_type": "code",
   "execution_count": null,
   "id": "9ff4ed80-034a-46ec-8ef9-6b7617646650",
   "metadata": {},
   "outputs": [],
   "source": []
  }
 ],
 "metadata": {
  "kernelspec": {
   "display_name": "Python 3 (ipykernel)",
   "language": "python",
   "name": "python3"
  },
  "language_info": {
   "codemirror_mode": {
    "name": "ipython",
    "version": 3
   },
   "file_extension": ".py",
   "mimetype": "text/x-python",
   "name": "python",
   "nbconvert_exporter": "python",
   "pygments_lexer": "ipython3",
   "version": "3.12.2"
  }
 },
 "nbformat": 4,
 "nbformat_minor": 5
}
