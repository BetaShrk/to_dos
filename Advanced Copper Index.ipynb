{
 "cells": [
  {
   "cell_type": "code",
   "execution_count": 41,
   "id": "0c4fc101-036f-41aa-bc60-2d420b27c38d",
   "metadata": {},
   "outputs": [],
   "source": [
    "import requests\n",
    "from bs4 import BeautifulSoup\n",
    "import pandas as pd\n",
    "import os"
   ]
  },
  {
   "cell_type": "code",
   "execution_count": 42,
   "id": "f09efc88-08fa-455d-abdc-852473ab4879",
   "metadata": {},
   "outputs": [],
   "source": [
    "url = \"https://www.westmetall.com/de/markdaten.php?action=table&field=ACI\""
   ]
  },
  {
   "cell_type": "code",
   "execution_count": 53,
   "id": "4728a498-0894-4d09-8610-5ad10439f01d",
   "metadata": {},
   "outputs": [
    {
     "name": "stdout",
     "output_type": "stream",
     "text": [
      "Excel-Datei erfolgreich erstellt: MBI0526_Advanced_Copper_Index.xlsx\n"
     ]
    }
   ],
   "source": [
    "response = requests.get(url)\n",
    "\n",
    "if response.status_code == 200:\n",
    "    html_content = response.text\n",
    "    soup = BeautifulSoup(html_content, \"html.parser\")\n",
    "    table = soup.find(\"table\")\n",
    "\n",
    "    data = []\n",
    "    headers = [\"symbol\", \"name\", \"date\", \"price\"]\n",
    "\n",
    "    rows = table.find_all(\"tr\")\n",
    "    \n",
    "    for row in table.find_all(\"tr\"):\n",
    "        row_data = [cell.get_text(strip = True) for cell in row.find_all(\"td\")]\n",
    "        if len(row_data) >= 2:\n",
    "            data.append([None, None] + row_data[:2])\n",
    "\n",
    "    df = pd.DataFrame(data, columns = headers)\n",
    "    \n",
    "    df[\"symbol\"] = 'MBI0526'\n",
    "    df[\"name\"] = 'Advanced Copper Index (ACI) KME SPS'\n",
    "    \n",
    "    df.to_excel(\"MBI0526_Advanced_Copper_Index.xlsx\", index=False)\n",
    "\n",
    "    print(\"Excel-Datei erfolgreich erstellt: MBI0526_Advanced_Copper_Index.xlsx\")\n",
    "else:\n",
    "    print(\"Fehler beim Abrufen der Seite:\", response.status_code)\n",
    "\n",
    "#current_directory = os.getcwd()\n",
    "#print(\"curr\", current_directory)"
   ]
  },
  {
   "cell_type": "code",
   "execution_count": null,
   "id": "af0bd55e-d3a4-4492-9e26-104680bccffd",
   "metadata": {},
   "outputs": [],
   "source": []
  },
  {
   "cell_type": "code",
   "execution_count": null,
   "id": "8170818f-c104-4e54-9cc3-723aa761c90b",
   "metadata": {},
   "outputs": [],
   "source": []
  }
 ],
 "metadata": {
  "kernelspec": {
   "display_name": "Python 3 (ipykernel)",
   "language": "python",
   "name": "python3"
  },
  "language_info": {
   "codemirror_mode": {
    "name": "ipython",
    "version": 3
   },
   "file_extension": ".py",
   "mimetype": "text/x-python",
   "name": "python",
   "nbconvert_exporter": "python",
   "pygments_lexer": "ipython3",
   "version": "3.12.1"
  }
 },
 "nbformat": 4,
 "nbformat_minor": 5
}
