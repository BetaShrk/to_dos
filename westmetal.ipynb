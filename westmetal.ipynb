{
 "cells": [
  {
   "cell_type": "code",
   "execution_count": null,
   "id": "cff80180-eb3a-4bd6-be76-11fc05b23e02",
   "metadata": {},
   "outputs": [],
   "source": [
    "import requests\n",
    "from bs4 import BeautifulSoup\n",
    "import pandas as pd\n",
    "import os\n",
    "import openpyxl\n",
    "\n",
    "\n",
    "from datetime import datetime\n",
    "month_dict = {\n",
    "    'Januar': '01',\n",
    "    'Februar': '02',\n",
    "    'März': '03',\n",
    "    'April': '04',\n",
    "    'Mai': '05',\n",
    "    'Juni': '06',\n",
    "    'Juli': '07',\n",
    "    'August': '08',\n",
    "    'September': '09',\n",
    "    'Oktober': '10',\n",
    "    'November': '11',\n",
    "    'Dezember': '12'\n",
    "}"
   ]
  },
  {
   "cell_type": "code",
   "execution_count": null,
   "id": "043f0d75-12f3-4582-8d5b-d1807417a913",
   "metadata": {},
   "outputs": [],
   "source": [
    "urls = [\n",
    "    #{'url':'https://www.westmetall.com/de/markdaten.php?action=table&field=ACI', 'symbol':'MBI01', 'boerse': 'mbi'},\n",
    "    #{'url':'https://www.westmetall.com/de/markdaten.php?action=table&field=Euro_FX1', 'symbol':'MBI02', 'boerse': 'mbi'},\n",
    "    {'url':'https://www.westmetall.com/de/markdaten.php?action=table&field=WM_Cu_low', 'symbol':'MBI0543', 'boerse': 'mbi'},\n",
    "    {'url':'https://www.westmetall.com/de/markdaten.php?action=table&field=WM_Cu_high', 'symbol':'MBI0544', 'boerse': 'mbi'}      \n",
    "]"
   ]
  },
  {
   "cell_type": "code",
   "execution_count": null,
   "id": "4122ec2e-d58b-4d38-9e76-7330788da62f",
   "metadata": {},
   "outputs": [],
   "source": [
    "all_data = []\n",
    "\n",
    "for item in urls:\n",
    "    url = item['url']\n",
    "    symbol = item['symbol']\n",
    "    boerse = item['boerse']\n",
    "\n",
    "    response = requests.get(url)\n",
    "    if response.status_code == 200:\n",
    "        soup = BeautifulSoup(response.text, 'html.parser')\n",
    "        table = soup.find(\"table\")\n",
    "\n",
    "        data = []\n",
    "        headers = [\"symbol\", \"boerse\", \"datum\", \"letzter\"]\n",
    "    \n",
    "        rows = table.find_all(\"tr\")\n",
    "\n",
    "        for row in table.find_all(\"tr\")[1:4]:\n",
    "            row_data = [cell.get_text(strip=True) for cell in row.find_all(\"td\")]\n",
    "            \n",
    "            if len(row_data) >= 2:\n",
    "                date_parts = row_data[0].split(' ')\n",
    "                day = date_parts[0].strip('.')\n",
    "                month = month_dict.get(date_parts[1])\n",
    "                year = date_parts[2]\n",
    "\n",
    "                datum = f\"{year}-{month}-{day}\"\n",
    "                data.append([symbol, boerse, datum, row_data[1]])\n",
    "        \n",
    "        \n",
    "        all_data.extend(data)\n",
    "\n",
    "df = pd.DataFrame(all_data, columns=headers)\n",
    "df.to_excel(\"westmetall.xlsx\", index=False)\n",
    "\n",
    "print(\"Excel-Datei erfolgreich erstellt: westmetall.xlsx\")"
   ]
  }
 ],
 "metadata": {
  "kernelspec": {
   "display_name": "Python 3 (ipykernel)",
   "language": "python",
   "name": "python3"
  },
  "language_info": {
   "codemirror_mode": {
    "name": "ipython",
    "version": 3
   },
   "file_extension": ".py",
   "mimetype": "text/x-python",
   "name": "python",
   "nbconvert_exporter": "python",
   "pygments_lexer": "ipython3",
   "version": "3.12.2"
  }
 },
 "nbformat": 4,
 "nbformat_minor": 5
}
