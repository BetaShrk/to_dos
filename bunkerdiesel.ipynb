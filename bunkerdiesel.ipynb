{
 "cells": [
  {
   "cell_type": "code",
   "execution_count": 43,
   "id": "6545dbb7-1b41-4c5f-9cfe-30e2077a0ffb",
   "metadata": {},
   "outputs": [],
   "source": [
    "import requests\n",
    "from bs4 import BeautifulSoup\n",
    "import pandas as pd"
   ]
  },
  {
   "cell_type": "code",
   "execution_count": 44,
   "id": "73351e40-c637-4531-8f62-3aa1d573e345",
   "metadata": {},
   "outputs": [],
   "source": [
    "fuel_types = ['VLSFO', 'MGO', 'LSMGO', 'IFO380', 'MEOH', 'MEOHVLSF', 'MEOHMGOe', 'LNG', 'LNG-380e', 'LNG-MGOe']\n",
    "base_url = 'https://shipandbunker.com/prices/emea/nwe/nl-rtm-rotterdam#'"
   ]
  },
  {
   "cell_type": "code",
   "execution_count": 48,
   "id": "89d39413-fab1-42bb-8ac5-203949c7660f",
   "metadata": {},
   "outputs": [
    {
     "name": "stdout",
     "output_type": "stream",
     "text": [
      " Gespeichert in 'fuel_prices.xlsx' \n"
     ]
    }
   ],
   "source": [
    "data = {'Bunker Price': [], 'Date': [], 'Price': []} #initialisiert preisliste\n",
    "\n",
    "for fuel_type in fuel_types:\n",
    "    \n",
    "    url = base_url + fuel_type\n",
    "    response = requests.get(url)\n",
    "    \n",
    "    if response.status_code == 200:\n",
    "        soup = BeautifulSoup(response.content, 'html.parser')\n",
    "        \n",
    "        #price\n",
    "        price_tag = soup.find('td', headers = f'price-{fuel_type}')\n",
    "        price = price_tag.text.strip() if price_tag else \"price not found\"\n",
    "        \n",
    "        #date\n",
    "        date_tag = soup.find('th', class_='date')\n",
    "        date = date_tag.text.strip() if date_tag else \"date not found\"\n",
    "        \n",
    "        #check up\n",
    "        #print(fuel_type, date, price)\n",
    "\n",
    "        data['Bunker Price'].append(fuel_type)\n",
    "        data['Date'].append(date)\n",
    "        data['Price'].append(price)\n",
    "        \n",
    "    else:\n",
    "        print(\"something went wrong\", response.status_code)\n",
    "\n",
    "df = pd.DataFrame(data)\n",
    "\n",
    "excel_file = 'fuel_prices.xlsx'\n",
    "df.to_excel(excel_file, index = False) \n",
    "\n",
    "print(f\" Gespeichert in '{excel_file}' \")"
   ]
  },
  {
   "cell_type": "code",
   "execution_count": null,
   "id": "f92e8d33-f954-49bc-9505-afbde47a26e0",
   "metadata": {},
   "outputs": [],
   "source": []
  },
  {
   "cell_type": "code",
   "execution_count": null,
   "id": "8bc89fc1-05b8-426d-b3e2-e9fb6a6a2676",
   "metadata": {},
   "outputs": [],
   "source": []
  }
 ],
 "metadata": {
  "kernelspec": {
   "display_name": "Python 3 (ipykernel)",
   "language": "python",
   "name": "python3"
  },
  "language_info": {
   "codemirror_mode": {
    "name": "ipython",
    "version": 3
   },
   "file_extension": ".py",
   "mimetype": "text/x-python",
   "name": "python",
   "nbconvert_exporter": "python",
   "pygments_lexer": "ipython3",
   "version": "3.12.1"
  }
 },
 "nbformat": 4,
 "nbformat_minor": 5
}
