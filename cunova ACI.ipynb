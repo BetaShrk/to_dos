{
 "cells": [
  {
   "cell_type": "code",
   "execution_count": 2,
   "id": "0eae0ce4-f8d2-47be-9a82-6806fdc8262d",
   "metadata": {},
   "outputs": [],
   "source": [
    "import requests\n",
    "from bs4 import BeautifulSoup\n",
    "import pandas as pd"
   ]
  },
  {
   "cell_type": "code",
   "execution_count": 3,
   "id": "03453c73-0e04-4193-b517-16aad4c2fc1b",
   "metadata": {},
   "outputs": [],
   "source": [
    "url = 'https://www.cunova.com'"
   ]
  },
  {
   "cell_type": "code",
   "execution_count": 8,
   "id": "f7d32598-851f-49b7-aec5-7733545035bc",
   "metadata": {},
   "outputs": [
    {
     "name": "stdout",
     "output_type": "stream",
     "text": [
      "Die Daten wurden erfolgreich in die Excel-Tabelle 'cunova.xlsx' eingefügt.\n"
     ]
    }
   ],
   "source": [
    "response = requests.get(url)\n",
    "\n",
    "if response.status_code == 200:\n",
    "    soup = BeautifulSoup(response.content, 'html.parser')\n",
    "\n",
    "    date_element = soup.find('div', class_='acidataitem-label')\n",
    "    if date_element:\n",
    "        date = date_element.get_text(strip = True).split(\": \")[1].rstrip(')')\n",
    "    else:\n",
    "        date = \"Datum nicht gefunden\"\n",
    "\n",
    "    price_element = soup.find('div', class_='acidataitem-content')\n",
    "    if price_element:\n",
    "        price = price_element.get_text(strip=True).split(\" \")[1]\n",
    "    else:\n",
    "        price = \"Preis nicht gefunden\"\n",
    "\n",
    "    #if date and price:\n",
    "    #    print(f\"{date} {price}\")\n",
    "    #else:\n",
    "    #    print(\"Datum oder Preis nicht gefunden\")\n",
    "\n",
    "    data = {'Datum': [date], 'Preis': [price]}\n",
    "    df = pd.DataFrame(data)\n",
    "    \n",
    "    df = pd.DataFrame(columns=[\"symbol\", \"name\", \"date\", \"price\"])\n",
    "    df.loc[0] = ['MBI0526', 'Advanced Copper Index (ACI) KME SPS', date, price]\n",
    "    \n",
    "    df.to_excel('cunova.xlsx', index=False)\n",
    "    print(\"Die Daten wurden erfolgreich in die Excel-Tabelle 'cunova.xlsx' eingefügt.\")\n",
    "    \n",
    "else:\n",
    "    print(\"something went wrong\", response.status_code)"
   ]
  },
  {
   "cell_type": "code",
   "execution_count": null,
   "id": "a1934302-ea92-400b-8a7e-764ab94caf2a",
   "metadata": {},
   "outputs": [],
   "source": []
  }
 ],
 "metadata": {
  "kernelspec": {
   "display_name": "Python 3 (ipykernel)",
   "language": "python",
   "name": "python3"
  },
  "language_info": {
   "codemirror_mode": {
    "name": "ipython",
    "version": 3
   },
   "file_extension": ".py",
   "mimetype": "text/x-python",
   "name": "python",
   "nbconvert_exporter": "python",
   "pygments_lexer": "ipython3",
   "version": "3.12.1"
  }
 },
 "nbformat": 4,
 "nbformat_minor": 5
}
