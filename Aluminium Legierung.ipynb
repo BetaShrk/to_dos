{
 "cells": [
  {
   "cell_type": "code",
   "execution_count": 18,
   "id": "95b02b39-3c1d-4776-a5f3-bcde64dbb73e",
   "metadata": {},
   "outputs": [],
   "source": [
    "from pdf2docx import Converter\n",
    "from docx import Document\n",
    "import pandas as pd"
   ]
  },
  {
   "cell_type": "code",
   "execution_count": 20,
   "id": "b1c97471-e5d0-4034-8010-aa4222da3c53",
   "metadata": {},
   "outputs": [
    {
     "name": "stderr",
     "output_type": "stream",
     "text": [
      "[INFO] Start to convert MPL_202408.pdf\n",
      "[INFO] \u001b[1;36m[1/4] Opening document...\u001b[0m\n",
      "[INFO] \u001b[1;36m[2/4] Analyzing document...\u001b[0m\n",
      "[WARNING] Ignore Line \"EUR MWh\" due to overlap\n",
      "[INFO] \u001b[1;36m[3/4] Parsing pages...\u001b[0m\n",
      "[INFO] (1/2) Page 1\n",
      "[INFO] (2/2) Page 2\n",
      "[INFO] \u001b[1;36m[4/4] Creating pages...\u001b[0m\n",
      "[INFO] (1/2) Page 1\n",
      "[INFO] (2/2) Page 2\n",
      "[INFO] Terminated in 9.17s.\n"
     ]
    },
    {
     "name": "stdout",
     "output_type": "stream",
     "text": [
      "[331, 339, 348]\n"
     ]
    }
   ],
   "source": [
    "def pdf_to_docx(pdf_file, docx_file):\n",
    "    cv = Converter(pdf_file)\n",
    "    cv.convert(docx_file, start=0, end=None)\n",
    "    cv.close()\n",
    "\n",
    "def extract_column_data(docx_file, column_index):\n",
    "    document = Document(docx_file)\n",
    "    column_data = []\n",
    "    \n",
    "    for table in document.tables:\n",
    "        for row in table.rows:\n",
    "            if len(row.cells) > column_index:\n",
    "                cell = row.cells[column_index]\n",
    "                cell_text = cell.text.strip()\n",
    "                column_data.append(cell_text)\n",
    "    \n",
    "    return column_data\n",
    "\n",
    "def extract_desired_values(column_data):\n",
    "    extracted_values = []\n",
    "    for item in column_data:\n",
    "        if item.strip().isdigit(): \n",
    "            extracted_values.append(item.strip())\n",
    "        else:\n",
    "            numbers = [int(num) for num in item.split() if num.isdigit()]\n",
    "            if numbers:\n",
    "                extracted_values.extend(numbers)\n",
    "    desired_values = [extracted_values[50], extracted_values[52], extracted_values[54]]\n",
    "    return desired_values\n",
    "\n",
    "pdf_to_docx('MPL_202408.pdf', 'MPL_202408.docx')\n",
    "\n",
    "column_index = 2\n",
    "column_data = extract_column_data('MPL_202408.docx', column_index)\n",
    "desired_values = extract_desired_values(column_data)\n",
    "print( desired_values)\n",
    "\n",
    "\n",
    "# Speichere den DataFrame in eine Excel-Datei"
   ]
  },
  {
   "cell_type": "code",
   "execution_count": 21,
   "id": "07b4ffa2-15b5-4cb4-8689-713979394510",
   "metadata": {},
   "outputs": [
    {
     "data": {
      "text/html": [
       "<div>\n",
       "<style scoped>\n",
       "    .dataframe tbody tr th:only-of-type {\n",
       "        vertical-align: middle;\n",
       "    }\n",
       "\n",
       "    .dataframe tbody tr th {\n",
       "        vertical-align: top;\n",
       "    }\n",
       "\n",
       "    .dataframe thead th {\n",
       "        text-align: right;\n",
       "    }\n",
       "</style>\n",
       "<table border=\"1\" class=\"dataframe\">\n",
       "  <thead>\n",
       "    <tr style=\"text-align: right;\">\n",
       "      <th></th>\n",
       "      <th>symbol</th>\n",
       "      <th>boerse</th>\n",
       "      <th>datum</th>\n",
       "      <th>letzter</th>\n",
       "    </tr>\n",
       "  </thead>\n",
       "  <tbody>\n",
       "    <tr>\n",
       "      <th>0</th>\n",
       "      <td>Aluminium-Legierung 226 G-Al Si9 Cu3</td>\n",
       "      <td>-</td>\n",
       "      <td>-</td>\n",
       "      <td>331</td>\n",
       "    </tr>\n",
       "    <tr>\n",
       "      <th>1</th>\n",
       "      <td>Aluminium-Legierung 231 G-Al Si12 (Cu)</td>\n",
       "      <td>-</td>\n",
       "      <td>-</td>\n",
       "      <td>339</td>\n",
       "    </tr>\n",
       "    <tr>\n",
       "      <th>2</th>\n",
       "      <td>Aluminium-Legierung 233 G-Al Si10 Mg (Cu)</td>\n",
       "      <td>-</td>\n",
       "      <td>-</td>\n",
       "      <td>348</td>\n",
       "    </tr>\n",
       "  </tbody>\n",
       "</table>\n",
       "</div>"
      ],
      "text/plain": [
       "                                      symbol boerse datum  letzter\n",
       "0       Aluminium-Legierung 226 G-Al Si9 Cu3      -     -      331\n",
       "1     Aluminium-Legierung 231 G-Al Si12 (Cu)      -     -      339\n",
       "2  Aluminium-Legierung 233 G-Al Si10 Mg (Cu)      -     -      348"
      ]
     },
     "metadata": {},
     "output_type": "display_data"
    }
   ],
   "source": [
    "data = {'symbol': ['Aluminium-Legierung 226 G-Al Si9 Cu3', 'Aluminium-Legierung 231 G-Al Si12 (Cu)', 'Aluminium-Legierung 233 G-Al Si10 Mg (Cu)'],\n",
    "        'boerse': ['-', '-', '-'],\n",
    "        'datum': ['-', '-', '-'],\n",
    "        'letzter': desired_values}\n",
    "\n",
    "df = pd.DataFrame(data)\n",
    "display(df)"
   ]
  },
  {
   "cell_type": "code",
   "execution_count": null,
   "id": "9d4792ed-73de-48e3-b741-85a685e85605",
   "metadata": {},
   "outputs": [],
   "source": []
  }
 ],
 "metadata": {
  "kernelspec": {
   "display_name": "Python 3 (ipykernel)",
   "language": "python",
   "name": "python3"
  },
  "language_info": {
   "codemirror_mode": {
    "name": "ipython",
    "version": 3
   },
   "file_extension": ".py",
   "mimetype": "text/x-python",
   "name": "python",
   "nbconvert_exporter": "python",
   "pygments_lexer": "ipython3",
   "version": "3.12.1"
  }
 },
 "nbformat": 4,
 "nbformat_minor": 5
}
