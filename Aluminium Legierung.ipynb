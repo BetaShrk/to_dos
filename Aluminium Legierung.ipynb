{
 "cells": [
  {
   "cell_type": "markdown",
   "id": "17412549-ccb2-4930-950f-4238e3ec3331",
   "metadata": {},
   "source": [
    "### to do\n",
    "- welches datum?\n",
    "- symbol??\n",
    "- boerse WVM"
   ]
  },
  {
   "cell_type": "code",
   "execution_count": 25,
   "id": "95b02b39-3c1d-4776-a5f3-bcde64dbb73e",
   "metadata": {},
   "outputs": [],
   "source": [
    "from pdf2docx import Converter\n",
    "from docx import Document\n",
    "import pandas as pd"
   ]
  },
  {
   "cell_type": "code",
   "execution_count": null,
   "id": "b1c97471-e5d0-4034-8010-aa4222da3c53",
   "metadata": {},
   "outputs": [
    {
     "name": "stderr",
     "output_type": "stream",
     "text": [
      "[INFO] Start to convert MPL_202408.pdf\n",
      "[INFO] \u001b[1;36m[1/4] Opening document...\u001b[0m\n",
      "[INFO] \u001b[1;36m[2/4] Analyzing document...\u001b[0m\n",
      "[WARNING] Ignore Line \"EUR MWh\" due to overlap\n"
     ]
    }
   ],
   "source": [
    "def pdf_to_docx(pdf_file, docx_file):\n",
    "    cv = Converter(pdf_file)\n",
    "    cv.convert(docx_file, start=0, end=None)\n",
    "    cv.close()\n",
    "\n",
    "def extract_column_data(docx_file, column_index):\n",
    "    document = Document(docx_file)\n",
    "    column_data = []\n",
    "    \n",
    "    for table in document.tables:\n",
    "        for row in table.rows:\n",
    "            if len(row.cells) > column_index:\n",
    "                cell = row.cells[column_index]\n",
    "                cell_text = cell.text.strip()\n",
    "                column_data.append(cell_text)\n",
    "    \n",
    "    return column_data\n",
    "\n",
    "def extract_desired_values(column_data):\n",
    "    extracted_values = []\n",
    "    for item in column_data:\n",
    "        if item.strip().isdigit(): \n",
    "            extracted_values.append(item.strip())\n",
    "        else:\n",
    "            numbers = [int(num) for num in item.split() if num.isdigit()]\n",
    "            if numbers:\n",
    "                extracted_values.extend(numbers)\n",
    "    desired_values = [extracted_values[50], extracted_values[52], extracted_values[54]]\n",
    "    return desired_values\n",
    "\n",
    "pdf_to_docx('MPL_202408.pdf', 'MPL_202408.docx')\n",
    "\n",
    "column_index = 2\n",
    "column_data = extract_column_data('MPL_202408.docx', column_index)\n",
    "desired_values = extract_desired_values(column_data)\n",
    "print( desired_values)"
   ]
  },
  {
   "cell_type": "code",
   "execution_count": null,
   "id": "07b4ffa2-15b5-4cb4-8689-713979394510",
   "metadata": {},
   "outputs": [],
   "source": [
    "data = {'symbol': ['Aluminium-Legierung 226 G-Al Si9 Cu3', 'Aluminium-Legierung 231 G-Al Si12 (Cu)', 'Aluminium-Legierung 233 G-Al Si10 Mg (Cu)'],\n",
    "        'boerse': ['-', '-', '-'],\n",
    "        'datum': ['-', '-', '-'],\n",
    "        'letzter': desired_values}\n",
    "\n",
    "df = pd.DataFrame(data)\n",
    "display(df)\n",
    "df.to_excel('wvm.xlsx', index=False)"
   ]
  },
  {
   "cell_type": "code",
   "execution_count": null,
   "id": "9d4792ed-73de-48e3-b741-85a685e85605",
   "metadata": {},
   "outputs": [],
   "source": []
  },
  {
   "cell_type": "code",
   "execution_count": null,
   "id": "b178f677-db8d-4eb8-8233-2a5d32ab69dc",
   "metadata": {},
   "outputs": [],
   "source": []
  }
 ],
 "metadata": {
  "kernelspec": {
   "display_name": "Python 3 (ipykernel)",
   "language": "python",
   "name": "python3"
  },
  "language_info": {
   "codemirror_mode": {
    "name": "ipython",
    "version": 3
   },
   "file_extension": ".py",
   "mimetype": "text/x-python",
   "name": "python",
   "nbconvert_exporter": "python",
   "pygments_lexer": "ipython3",
   "version": "3.12.1"
  }
 },
 "nbformat": 4,
 "nbformat_minor": 5
}
